{
 "cells": [
  {
   "cell_type": "code",
   "execution_count": 1,
   "id": "923169a0",
   "metadata": {
    "_cell_guid": "b1076dfc-b9ad-4769-8c92-a6c4dae69d19",
    "_uuid": "8f2839f25d086af736a60e9eeb907d3b93b6e0e5",
    "execution": {
     "iopub.execute_input": "2023-02-26T21:43:26.615985Z",
     "iopub.status.busy": "2023-02-26T21:43:26.615021Z",
     "iopub.status.idle": "2023-02-26T21:43:26.634934Z",
     "shell.execute_reply": "2023-02-26T21:43:26.633958Z"
    },
    "papermill": {
     "duration": 0.033339,
     "end_time": "2023-02-26T21:43:26.638759",
     "exception": false,
     "start_time": "2023-02-26T21:43:26.605420",
     "status": "completed"
    },
    "tags": []
   },
   "outputs": [
    {
     "name": "stdout",
     "output_type": "stream",
     "text": [
      "/kaggle/input/digit-recognizer/sample_submission.csv\n",
      "/kaggle/input/digit-recognizer/train.csv\n",
      "/kaggle/input/digit-recognizer/test.csv\n",
      "/kaggle/input/wbc-data/WBC_data.csv\n"
     ]
    }
   ],
   "source": [
    "# This Python 3 environment comes with many helpful analytics libraries installed\n",
    "# It is defined by the kaggle/python Docker image: https://github.com/kaggle/docker-python\n",
    "# For example, here's several helpful packages to load\n",
    "\n",
    "import numpy as np # linear algebra\n",
    "import pandas as pd # data processing, CSV file I/O (e.g. pd.read_csv)\n",
    "\n",
    "# Input data files are available in the read-only \"../input/\" directory\n",
    "# For example, running this (by clicking run or pressing Shift+Enter) will list all files under the input directory\n",
    "\n",
    "import os\n",
    "for dirname, _, filenames in os.walk('/kaggle/input'):\n",
    "    for filename in filenames:\n",
    "        print(os.path.join(dirname, filename))\n",
    "\n",
    "# You can write up to 20GB to the current directory (/kaggle/working/) that gets preserved as output when you create a version using \"Save & Run All\" \n",
    "# You can also write temporary files to /kaggle/temp/, but they won't be saved outside of the current session"
   ]
  },
  {
   "cell_type": "code",
   "execution_count": 2,
   "id": "ef1caf1d",
   "metadata": {
    "execution": {
     "iopub.execute_input": "2023-02-26T21:43:26.654043Z",
     "iopub.status.busy": "2023-02-26T21:43:26.653639Z",
     "iopub.status.idle": "2023-02-26T21:43:27.552799Z",
     "shell.execute_reply": "2023-02-26T21:43:27.551859Z"
    },
    "papermill": {
     "duration": 0.909595,
     "end_time": "2023-02-26T21:43:27.555490",
     "exception": false,
     "start_time": "2023-02-26T21:43:26.645895",
     "status": "completed"
    },
    "tags": []
   },
   "outputs": [],
   "source": [
    "import pickle\n",
    "import numpy as np\n",
    "import pandas as pd\n",
    "import matplotlib.pyplot as plt\n",
    "from sklearn.preprocessing import LabelEncoder, MinMaxScaler"
   ]
  },
  {
   "cell_type": "code",
   "execution_count": 3,
   "id": "dadc02c4",
   "metadata": {
    "execution": {
     "iopub.execute_input": "2023-02-26T21:43:27.568942Z",
     "iopub.status.busy": "2023-02-26T21:43:27.567899Z",
     "iopub.status.idle": "2023-02-26T21:43:27.574915Z",
     "shell.execute_reply": "2023-02-26T21:43:27.573797Z"
    },
    "papermill": {
     "duration": 0.01686,
     "end_time": "2023-02-26T21:43:27.577975",
     "exception": false,
     "start_time": "2023-02-26T21:43:27.561115",
     "status": "completed"
    },
    "tags": []
   },
   "outputs": [
    {
     "name": "stdout",
     "output_type": "stream",
     "text": [
      "z = 2.9000000000000004\n"
     ]
    }
   ],
   "source": [
    "X = [1, 2, 3]\n",
    "weights = [0.01, 0.4, 0.53]\n",
    "bias = 0.5\n",
    "\n",
    "z = X[0] * weights[0] + X[1] * weights[1] + X[2] * weights[2] + bias\n",
    "\n",
    "print(f\"z = {z}\")"
   ]
  },
  {
   "cell_type": "code",
   "execution_count": 4,
   "id": "f314a080",
   "metadata": {
    "execution": {
     "iopub.execute_input": "2023-02-26T21:43:27.590755Z",
     "iopub.status.busy": "2023-02-26T21:43:27.590372Z",
     "iopub.status.idle": "2023-02-26T21:43:27.601632Z",
     "shell.execute_reply": "2023-02-26T21:43:27.600199Z"
    },
    "papermill": {
     "duration": 0.021112,
     "end_time": "2023-02-26T21:43:27.604607",
     "exception": false,
     "start_time": "2023-02-26T21:43:27.583495",
     "status": "completed"
    },
    "tags": []
   },
   "outputs": [
    {
     "name": "stdout",
     "output_type": "stream",
     "text": [
      "(4,)\n",
      "(2, 4)\n",
      "(3, 4)\n",
      "(4, 4)\n",
      "(2, 2, 4)\n",
      "\n"
     ]
    }
   ],
   "source": [
    "list1 = [1, 2, 3, 4]\n",
    "\n",
    "numpy_list1 = np.array(list1)\n",
    "\n",
    "print(numpy_list1.shape)\n",
    "\n",
    "list2 = [\n",
    "    [1, 2, 3, 4], [5, 6, 7, 8]\n",
    "]\n",
    "numpy_list2 = np.array(list2)\n",
    "print(numpy_list2.shape)\n",
    "\n",
    "list3 = [\n",
    "    [1, 2, 3, 4], [5, 6, 7, 8], [10, 1, 37, 0]\n",
    "]\n",
    "numpy_list3 = np.array(list3)\n",
    "print(numpy_list3.shape)\n",
    "\n",
    "list4 = [\n",
    "    [1, 2, 3, 4], [5, 6, 7, 8], [10, 1, 37, 0], [32, 11, 45, 98]\n",
    "]\n",
    "numpy_list4 = np.array(list4)\n",
    "print(numpy_list4.shape)\n",
    "\n",
    "list5 = [[\n",
    "    [1, 2, 3, 4], [5, 6, 7, 8]\n",
    "],\n",
    "[[10, 1, 37, 0], [32, 11, 45, 98]]\n",
    "]\n",
    "numpy_list5 = np.array(list5)\n",
    "print(numpy_list5.shape)\n",
    "\n",
    "print('')"
   ]
  },
  {
   "cell_type": "code",
   "execution_count": 5,
   "id": "92a0b765",
   "metadata": {
    "execution": {
     "iopub.execute_input": "2023-02-26T21:43:27.617907Z",
     "iopub.status.busy": "2023-02-26T21:43:27.617077Z",
     "iopub.status.idle": "2023-02-26T21:43:27.628453Z",
     "shell.execute_reply": "2023-02-26T21:43:27.627120Z"
    },
    "papermill": {
     "duration": 0.020547,
     "end_time": "2023-02-26T21:43:27.630853",
     "exception": false,
     "start_time": "2023-02-26T21:43:27.610306",
     "status": "completed"
    },
    "tags": []
   },
   "outputs": [
    {
     "data": {
      "text/plain": [
       "array([-0.72, -3.88])"
      ]
     },
     "execution_count": 5,
     "metadata": {},
     "output_type": "execute_result"
    }
   ],
   "source": [
    "X = [1,2,3]\n",
    "\n",
    "weights = [[0.1,0.34,-0.5],\n",
    "          [0.02,-0.9,-0.7]]\n",
    "\n",
    "'''Convert them into numpy array to apply dot product. '''\n",
    "X = np.array(X)\n",
    "weights = np.array(weights)\n",
    "\n",
    "weights_transpose = weights.T\n",
    "out = np.dot(X, weights_transpose)\n",
    "\n",
    "out"
   ]
  },
  {
   "cell_type": "code",
   "execution_count": 6,
   "id": "1451ffee",
   "metadata": {
    "execution": {
     "iopub.execute_input": "2023-02-26T21:43:27.644953Z",
     "iopub.status.busy": "2023-02-26T21:43:27.644526Z",
     "iopub.status.idle": "2023-02-26T21:43:27.655097Z",
     "shell.execute_reply": "2023-02-26T21:43:27.653728Z"
    },
    "papermill": {
     "duration": 0.021786,
     "end_time": "2023-02-26T21:43:27.658442",
     "exception": false,
     "start_time": "2023-02-26T21:43:27.636656",
     "status": "completed"
    },
    "tags": []
   },
   "outputs": [
    {
     "name": "stdout",
     "output_type": "stream",
     "text": [
      "1.5799999999999998\n",
      "0.0\n"
     ]
    }
   ],
   "source": [
    "def step_function(z):\n",
    "    return np.maximum(0, z)\n",
    "\n",
    "X = [1, 2, 3]\n",
    "\n",
    "weights = [\n",
    "    [0.1, 0.34, -0.5],\n",
    "    [0.02, -0.9, -0.7]\n",
    "]\n",
    "biases = [2.3, 1.2]\n",
    "\n",
    "weights = np.array(weights)\n",
    "X = np.array(X)\n",
    "\n",
    "z = np.dot(X, weights[0]) + biases[0]\n",
    "a = step_function(z)\n",
    "print(a)\n",
    "\n",
    "z1 = np.dot(X, weights[1]) + biases[1]\n",
    "a1 = step_function(z1)\n",
    "print(a1)"
   ]
  },
  {
   "cell_type": "code",
   "execution_count": 7,
   "id": "ad9872f8",
   "metadata": {
    "execution": {
     "iopub.execute_input": "2023-02-26T21:43:27.673207Z",
     "iopub.status.busy": "2023-02-26T21:43:27.672776Z",
     "iopub.status.idle": "2023-02-26T21:43:27.680156Z",
     "shell.execute_reply": "2023-02-26T21:43:27.678753Z"
    },
    "papermill": {
     "duration": 0.017784,
     "end_time": "2023-02-26T21:43:27.682862",
     "exception": false,
     "start_time": "2023-02-26T21:43:27.665078",
     "status": "completed"
    },
    "tags": []
   },
   "outputs": [],
   "source": [
    "class DenseLayer:\n",
    "    def __init__(self, inputs, neurons):\n",
    "        self.weights = np.random.randn(inputs, neurons)\n",
    "        self.biases = np.zeros((1, neurons))\n",
    "        \n",
    "    def forward_pass(self, X):\n",
    "        self.output = np.dot(X, self.weights) + self.biases"
   ]
  },
  {
   "cell_type": "code",
   "execution_count": 8,
   "id": "d21cf869",
   "metadata": {
    "execution": {
     "iopub.execute_input": "2023-02-26T21:43:27.697453Z",
     "iopub.status.busy": "2023-02-26T21:43:27.696348Z",
     "iopub.status.idle": "2023-02-26T21:43:27.705659Z",
     "shell.execute_reply": "2023-02-26T21:43:27.703523Z"
    },
    "papermill": {
     "duration": 0.01969,
     "end_time": "2023-02-26T21:43:27.708544",
     "exception": false,
     "start_time": "2023-02-26T21:43:27.688854",
     "status": "completed"
    },
    "tags": []
   },
   "outputs": [
    {
     "name": "stdout",
     "output_type": "stream",
     "text": [
      "LAYER 1 OUTPUT : [[-3.58458721 -2.62641758]]\n",
      "(1, 2)\n",
      "LAYER 2 OUTPUT : [[-1.19675116]]\n"
     ]
    }
   ],
   "source": [
    "X = [1, 2, 3]\n",
    "X = np.array(X)\n",
    "\n",
    "layer1 = DenseLayer(3, 2)\n",
    "\n",
    "layer1.forward_pass(X)\n",
    "print(f\"LAYER 1 OUTPUT : {layer1.output}\")\n",
    "print(layer1.output.shape)\n",
    "\n",
    "layer2 = DenseLayer(2, 1)\n",
    "layer2.forward_pass(layer1.output)\n",
    "\n",
    "print(f\"LAYER 2 OUTPUT : {layer2.output}\")"
   ]
  },
  {
   "cell_type": "code",
   "execution_count": 9,
   "id": "63d0bc34",
   "metadata": {
    "execution": {
     "iopub.execute_input": "2023-02-26T21:43:27.722554Z",
     "iopub.status.busy": "2023-02-26T21:43:27.722108Z",
     "iopub.status.idle": "2023-02-26T21:43:27.732137Z",
     "shell.execute_reply": "2023-02-26T21:43:27.730276Z"
    },
    "papermill": {
     "duration": 0.020079,
     "end_time": "2023-02-26T21:43:27.734843",
     "exception": false,
     "start_time": "2023-02-26T21:43:27.714764",
     "status": "completed"
    },
    "tags": []
   },
   "outputs": [
    {
     "name": "stdout",
     "output_type": "stream",
     "text": [
      "LOSS = 0.15665381004537687\n"
     ]
    }
   ],
   "source": [
    "def cost_function(o, y):\n",
    "    loss = np.dot(y, np.log(o)) + np.dot((1 - y), np.log(1 - o))\n",
    "    return -loss\n",
    "\n",
    "o = np.array([0.1, 0.95])\n",
    "y = np.array([0, 1])\n",
    "print(f\"LOSS = {cost_function(o, y)}\")"
   ]
  },
  {
   "cell_type": "code",
   "execution_count": 10,
   "id": "565c9a06",
   "metadata": {
    "execution": {
     "iopub.execute_input": "2023-02-26T21:43:27.749931Z",
     "iopub.status.busy": "2023-02-26T21:43:27.749223Z",
     "iopub.status.idle": "2023-02-26T21:43:27.772757Z",
     "shell.execute_reply": "2023-02-26T21:43:27.770970Z"
    },
    "papermill": {
     "duration": 0.034324,
     "end_time": "2023-02-26T21:43:27.775669",
     "exception": false,
     "start_time": "2023-02-26T21:43:27.741345",
     "status": "completed"
    },
    "tags": []
   },
   "outputs": [
    {
     "name": "stdout",
     "output_type": "stream",
     "text": [
      "Layer NO 0 : Output : [[ 4.31227791  0.          7.34777559  0.        ]\n",
      " [12.73865418  0.         15.38401943  0.        ]]\n",
      "Layer NO 1 : Output : [[ 4.31227791  0.          7.34777559  0.        ]\n",
      " [12.73865418  0.         15.38401943  0.        ]]\n",
      "Layer NO 2 : Output : [[0.95786149]\n",
      " [0.99999651]]\n",
      "COST =  [1.58339835]\n"
     ]
    }
   ],
   "source": [
    "class NN:\n",
    "    def __init__(self, X, y, no_of_layers):\n",
    "        self.X = X\n",
    "        self.y = y\n",
    "        self.samples = X.shape[0]\n",
    "        self.no_of_layers = no_of_layers\n",
    "        self.param = {}\n",
    "        \n",
    "    def weights_and_biases(self, layer_no, inputs, neurons):\n",
    "        np.random.seed(1)\n",
    "        self.param[f'weights_{layer_no}'] = np.random.randn(inputs, neurons)\n",
    "        self.param[f'biases_{layer_no}'] = np.zeros((1, neurons))\n",
    "        \n",
    "    def Relu(self, z):\n",
    "        return np.maximum(0, z)\n",
    "    \n",
    "    def Sigmoid(self, z):\n",
    "        return 1 / (1 + np.exp(-z))\n",
    "    \n",
    "    def cost_function(self, y, Yh):\n",
    "        loss = (1./self.samples) * (-np.dot(y, np.log(Yh)) - np.dot(1 - y, np.log(1 - Yh)))\n",
    "        return loss\n",
    "    \n",
    "    def appropriate_dim(self, z):\n",
    "        if z.ndim == 1:\n",
    "            return z.shape[0]\n",
    "        else:\n",
    "            return z.shape[1]\n",
    "        \n",
    "    def forward_pass(self, neurons):\n",
    "        for layer_number in range(self.no_of_layers):\n",
    "            if layer_number == 0:\n",
    "                inputs = self.appropriate_dim(self.X)\n",
    "                self.weights_and_biases(layer_number, inputs, neurons)\n",
    "                z = np.dot(self.X, self.param[f'weights_{layer_number}']) + self.param[f'biases_{layer_number}']\n",
    "                self.a = self.Relu(z)\n",
    "            \n",
    "            elif layer_number > 0 and layer_number != self.no_of_layers - 1:\n",
    "                \n",
    "                inputs = self.appropriate_dim(self.a)\n",
    "                self.weights_and_biases(layer_number, inputs, neurons)\n",
    "                z = np.dot(self.a, self.param[f'weights_{layer_number}']) + self.param[f'biases_{layer_number}']\n",
    "                \n",
    "            else:\n",
    "                inputs = self.appropriate_dim(self.a)\n",
    "                \n",
    "                self.weights_and_biases(layer_number, inputs, 1)\n",
    "                z = np.dot(self.a, self.param[f'weights_{layer_number}']) + self.param[f'biases_{layer_number}']\n",
    "                self.a = self.Sigmoid(z)\n",
    "                \n",
    "            print(f\"Layer NO {layer_number} : Output : {self.a}\")\n",
    "        print(\"COST = \", self.cost_function(self.y, self.a))\n",
    "        \n",
    "X = [\n",
    "    [1, 2, 3], [4, 5, 6]\n",
    "]\n",
    "X = np.array(X)\n",
    "y = np.array([0, 1])\n",
    "model = NN(X, y, 3)\n",
    "model.forward_pass(4)"
   ]
  },
  {
   "cell_type": "code",
   "execution_count": 11,
   "id": "6d74c9f3",
   "metadata": {
    "execution": {
     "iopub.execute_input": "2023-02-26T21:43:27.790469Z",
     "iopub.status.busy": "2023-02-26T21:43:27.789637Z",
     "iopub.status.idle": "2023-02-26T21:43:27.823991Z",
     "shell.execute_reply": "2023-02-26T21:43:27.822855Z"
    },
    "papermill": {
     "duration": 0.044747,
     "end_time": "2023-02-26T21:43:27.826720",
     "exception": false,
     "start_time": "2023-02-26T21:43:27.781973",
     "status": "completed"
    },
    "tags": []
   },
   "outputs": [],
   "source": [
    "data = pd.read_csv('/kaggle/input/wbc-data/WBC_data.csv')\n",
    "data.iloc[:,10].replace(2, 0,inplace=True)\n",
    "data.iloc[:,10].replace(4, 1,inplace=True)\n",
    "\n",
    "data = data[data.iloc[:,6].isin(['?']) == False]\n",
    "data = data.astype(float)\n",
    "\n",
    "names = data.columns[0:10]\n",
    "scaler = MinMaxScaler() \n",
    "scaled_data = scaler.fit_transform(data.iloc[:,0:10]) \n",
    "scaled_data = pd.DataFrame(scaled_data, columns=names)"
   ]
  },
  {
   "cell_type": "code",
   "execution_count": 12,
   "id": "73f4eb16",
   "metadata": {
    "execution": {
     "iopub.execute_input": "2023-02-26T21:43:27.841360Z",
     "iopub.status.busy": "2023-02-26T21:43:27.840632Z",
     "iopub.status.idle": "2023-02-26T21:43:27.847569Z",
     "shell.execute_reply": "2023-02-26T21:43:27.846409Z"
    },
    "papermill": {
     "duration": 0.017545,
     "end_time": "2023-02-26T21:43:27.850588",
     "exception": false,
     "start_time": "2023-02-26T21:43:27.833043",
     "status": "completed"
    },
    "tags": []
   },
   "outputs": [],
   "source": [
    "x = scaled_data.iloc[:650,:9].values\n",
    "y = np.array(data.iloc[:650,10:].values)\n",
    "\n",
    "x_val = scaled_data.iloc[651:,:9].values\n",
    "y_val = np.array(data.iloc[651:,10:].values)"
   ]
  },
  {
   "cell_type": "code",
   "execution_count": 13,
   "id": "37736731",
   "metadata": {
    "execution": {
     "iopub.execute_input": "2023-02-26T21:43:27.866581Z",
     "iopub.status.busy": "2023-02-26T21:43:27.866139Z",
     "iopub.status.idle": "2023-02-26T21:43:27.900845Z",
     "shell.execute_reply": "2023-02-26T21:43:27.899704Z"
    },
    "papermill": {
     "duration": 0.045507,
     "end_time": "2023-02-26T21:43:27.903529",
     "exception": false,
     "start_time": "2023-02-26T21:43:27.858022",
     "status": "completed"
    },
    "tags": []
   },
   "outputs": [],
   "source": [
    "class NN:\n",
    "    def __init__(self, X,y,no_of_layers,l_rate):\n",
    "        self.X = X\n",
    "        self.y = y\n",
    "        self.no_of_layers = no_of_layers\n",
    "        self.samples = X.shape[0]\n",
    "        self.param = {}\n",
    "        self.cache = {}\n",
    "        self.loss = []\n",
    "        self.lr = l_rate\n",
    "        \n",
    "        self.weights_and_biases(self.X.shape[1])\n",
    "    \n",
    "    def appropriate_dim(self,z):\n",
    "        if z.ndim == 1:\n",
    "            return z.shape[0]\n",
    "        else:\n",
    "            return z.shape[1]\n",
    "        \n",
    "    def weights_and_biases(self,neurons):\n",
    "        inputs = self.X\n",
    "        np.random.seed(1)\n",
    "        \n",
    "        for layer_no in range(self.no_of_layers):\n",
    "            if layer_no == 0:\n",
    "                \n",
    "                inputs = self.appropriate_dim(self.X)\n",
    "\n",
    "                \n",
    "                self.param[f'weights_{layer_no}'] = np.empty([inputs,neurons],dtype=float)\n",
    "                self.param[f'weights_{layer_no}'].fill(0.5)\n",
    "                self.param[f'biases_{layer_no}'] = np.zeros((1,neurons))\n",
    "                \n",
    "            elif layer_no > 0 and layer_no != self.no_of_layers-1:\n",
    "                \n",
    "                self.param[f'weights_{layer_no}'] = np.empty([neurons,neurons],dtype=float)\n",
    "                self.param[f'weights_{layer_no}'].fill(0.7)\n",
    "                self.param[f'biases_{layer_no}'] = np.zeros((1,neurons))\n",
    "            else:\n",
    "              \n",
    "                self.param[f'weights_{layer_no}'] = np.empty([neurons,1],dtype=float)\n",
    "                self.param[f'weights_{layer_no}'].fill(0.7)\n",
    "                self.param[f'biases_{layer_no}'] = np.zeros((1,1))\n",
    "                \n",
    "                \n",
    "    def Relu(self,z):\n",
    "        return np.maximum(0,z)\n",
    "    \n",
    "    def Sigmoid(self,z):\n",
    "        return 1/(1+np.exp(-z))\n",
    "    \n",
    "    def cost_function(self,y,yh):\n",
    "        \n",
    "        loss = (1./self.samples) * (-np.dot(y,np.log(yh)) - np.dot(1-y, np.log(1-yh)))    \n",
    "        return loss\n",
    "    \n",
    "    def forward_pass(self,x):\n",
    "        \n",
    "        for layer_number in range(self.no_of_layers):\n",
    "            \n",
    "            if layer_number == 0:\n",
    "                \n",
    "                z = np.dot(x,self.param[f'weights_{layer_number}']) + self.param[f'biases_{layer_number}']\n",
    "                self.a = self.Relu(z)\n",
    "                self.cache[f'z_{layer_number}'] = z\n",
    "                self.cache[f'a_{layer_number}'] = self.a\n",
    "                \n",
    "            else:\n",
    "                \n",
    "                z = np.dot(self.a,self.param[f'weights_{layer_number}']) + self.param[f'biases_{layer_number}']\n",
    "                self.a = self.Sigmoid(z)\n",
    "                self.cache[f'z_{layer_number}'] = z\n",
    "                self.cache[f'a_{layer_number}'] = self.a \n",
    "                \n",
    "        \n",
    "        return self.a\n",
    "\n",
    "    def dRelu(self,x):\n",
    "        x[x<=0] = 0\n",
    "        x[x>0] = 1\n",
    "        return x\n",
    "    \n",
    "    def dSigmoid(self,Z):\n",
    "        s = 1/(1+np.exp(-Z))\n",
    "        dZ = s * (1-s)\n",
    "        return dZ\n",
    "    \n",
    "    def backward_pass(self):\n",
    "        \n",
    "        total_loss = 0 \n",
    "        \n",
    "        for i in range(self.X.shape[0]):\n",
    "            \n",
    "            yh = self.forward_pass(self.X[i])\n",
    "            loss = self.cost_function(self.y[i],yh)\n",
    "\n",
    "            dLoss_Yh = 0\n",
    "            dLoss_Yh = - (np.divide(self.y[i], yh ) - np.divide(1 - self.y[i], 1 - yh))    \n",
    "\n",
    "            layer_number = self.no_of_layers-1\n",
    "\n",
    "            while(layer_number>=0):\n",
    "\n",
    "                if layer_number == self.no_of_layers-1:\n",
    "\n",
    "\n",
    "                    dloss_z = dLoss_Yh * self.dSigmoid(self.cache[f'z_{layer_number}'])\n",
    "                    dloss_a = np.dot(self.param[f'weights_{layer_number}'],dloss_z)\n",
    "                    self.cache[f'w_loss_{layer_number}'] = 1./self.cache[f'a_{layer_number}'].shape[1] * np.dot(dloss_z,self.cache[f'a_{layer_number}'].T)\n",
    "                    self.cache[f'b_loss_{layer_number}'] = 1./self.cache[f'a_{layer_number}'].shape[1] * np.dot(dloss_z,np.ones([dloss_z.shape[1],1]))\n",
    "\n",
    "                elif layer_number > 0 and layer_number != self.no_of_layers-1:\n",
    "\n",
    "                    dloss_z = dloss_a * self.dRelu(self.cache[f'z_{layer_number}'])\n",
    "                    dloss_a = np.dot(self.param[f'weights_{layer_number}'],dloss_z)\n",
    "                    self.cache[f'w_loss_{layer_number}'] = 1./self.cache[f'a_{layer_number}'].shape[1] * np.dot(dloss_z,self.cache[f'a_{layer_number}'].T)\n",
    "                    self.cache[f'b_loss_{layer_number}'] = 1./self.cache[f'a_{layer_number}'].shape[1] * np.dot(dloss_z,np.ones([dloss_z.shape[1],1]))\n",
    "\n",
    "                elif layer_number == 0:\n",
    "\n",
    "                    dloss_z = dloss_a * self.dRelu(self.cache[f'z_{layer_number}'])\n",
    "\n",
    "                    dloss_a = np.dot(self.param[f'weights_{layer_number}'],dloss_z)\n",
    "                    self.cache[f'w_loss_{layer_number}'] = 1./self.X.shape[1] * np.dot(dloss_z,self.X[i])\n",
    "                    self.cache[f'b_loss_{layer_number}'] = 1./self.X.shape[1] * np.dot(dloss_z,np.ones([dloss_z.shape[1],1]))\n",
    "                \n",
    "                layer_number-=1\n",
    "            \n",
    "            total_loss+=loss\n",
    "        \n",
    "        layer_number = self.no_of_layers-1\n",
    "\n",
    "        self.loss.append(total_loss) \n",
    "        \n",
    "        while(layer_number >= 0):\n",
    "            w_temp = self.param[f'weights_{layer_number}']\n",
    "            \n",
    "            self.param[f'weights_{layer_number}'] = self.param[f'weights_{layer_number}'] - self.lr * self.cache[f'w_loss_{layer_number}']\n",
    "            self.param[f'biases_{layer_number}'] = self.param[f'biases_{layer_number}'] - self.lr * self.cache[f'b_loss_{layer_number}'].T\n",
    "            self.param[f'weights_{layer_number}'].shape = w_temp.shape\n",
    "           \n",
    "            layer_number-=1\n",
    "            \n",
    "        return total_loss\n",
    "    \n",
    "    def predict(self,x):\n",
    "        pred = self.forward_pass(x)\n",
    "        if pred[0] > 0.5:\n",
    "            return 0\n",
    "        else:\n",
    "            return 1\n",
    "        "
   ]
  },
  {
   "cell_type": "code",
   "execution_count": 14,
   "id": "0625a502",
   "metadata": {
    "execution": {
     "iopub.execute_input": "2023-02-26T21:43:27.917970Z",
     "iopub.status.busy": "2023-02-26T21:43:27.917118Z",
     "iopub.status.idle": "2023-02-26T21:44:07.648503Z",
     "shell.execute_reply": "2023-02-26T21:44:07.647295Z"
    },
    "papermill": {
     "duration": 39.741672,
     "end_time": "2023-02-26T21:44:07.651357",
     "exception": false,
     "start_time": "2023-02-26T21:43:27.909685",
     "status": "completed"
    },
    "tags": []
   },
   "outputs": [
    {
     "name": "stdout",
     "output_type": "stream",
     "text": [
      "Iteration 0, error = [3.4808159]\n",
      "Iteration 100, error = [1.87169717]\n",
      "Iteration 200, error = [1.53662309]\n",
      "Iteration 300, error = [1.28673569]\n",
      "Iteration 400, error = [1.07996341]\n"
     ]
    }
   ],
   "source": [
    "model = NN(x,y,3,0.001)\n",
    "for i in range(500):\n",
    "    cost = model.backward_pass() \n",
    "    if i % 100 == 0:\n",
    "        print(f'Iteration {i}, error = {cost}')"
   ]
  },
  {
   "cell_type": "code",
   "execution_count": 15,
   "id": "4edba50a",
   "metadata": {
    "execution": {
     "iopub.execute_input": "2023-02-26T21:44:07.667590Z",
     "iopub.status.busy": "2023-02-26T21:44:07.667107Z",
     "iopub.status.idle": "2023-02-26T21:44:07.941741Z",
     "shell.execute_reply": "2023-02-26T21:44:07.940536Z"
    },
    "papermill": {
     "duration": 0.286748,
     "end_time": "2023-02-26T21:44:07.944591",
     "exception": false,
     "start_time": "2023-02-26T21:44:07.657843",
     "status": "completed"
    },
    "tags": []
   },
   "outputs": [
    {
     "data": {
      "text/plain": [
       "[<matplotlib.lines.Line2D at 0x7f5eeca7e310>]"
      ]
     },
     "execution_count": 15,
     "metadata": {},
     "output_type": "execute_result"
    },
    {
     "data": {
      "image/png": "[encoded data removed]",
      "text/plain": [
       "<Figure size 640x480 with 1 Axes>"
      ]
     },
     "metadata": {},
     "output_type": "display_data"
    }
   ],
   "source": [
    "import matplotlib.pyplot as plt\n",
    "\n",
    "plt.title(f'learning rate = {model.lr}')\n",
    "plt.xlabel(\"iterations\")\n",
    "plt.ylabel(\"error\")\n",
    "plt.plot(model.loss)"
   ]
  },
  {
   "cell_type": "code",
   "execution_count": 16,
   "id": "39012ab2",
   "metadata": {
    "execution": {
     "iopub.execute_input": "2023-02-26T21:44:07.960676Z",
     "iopub.status.busy": "2023-02-26T21:44:07.960268Z",
     "iopub.status.idle": "2023-02-26T21:44:07.967119Z",
     "shell.execute_reply": "2023-02-26T21:44:07.965812Z"
    },
    "papermill": {
     "duration": 0.018042,
     "end_time": "2023-02-26T21:44:07.969782",
     "exception": false,
     "start_time": "2023-02-26T21:44:07.951740",
     "status": "completed"
    },
    "tags": []
   },
   "outputs": [],
   "source": [
    "def Accuracy(x,y):\n",
    "    count = 0 \n",
    "    for i in range(x.shape[0]):\n",
    "        y_pred = model.predict(x[i])\n",
    "        if y[i] == y_pred:\n",
    "            count+=1\n",
    "    \n",
    "    print('Accuracy = ', count / x.shape[0])"
   ]
  },
  {
   "cell_type": "code",
   "execution_count": 17,
   "id": "e5939f88",
   "metadata": {
    "execution": {
     "iopub.execute_input": "2023-02-26T21:44:07.987427Z",
     "iopub.status.busy": "2023-02-26T21:44:07.986944Z",
     "iopub.status.idle": "2023-02-26T21:44:07.996252Z",
     "shell.execute_reply": "2023-02-26T21:44:07.994579Z"
    },
    "papermill": {
     "duration": 0.021698,
     "end_time": "2023-02-26T21:44:07.998755",
     "exception": false,
     "start_time": "2023-02-26T21:44:07.977057",
     "status": "completed"
    },
    "tags": []
   },
   "outputs": [
    {
     "name": "stdout",
     "output_type": "stream",
     "text": [
      "Accuracy =  0.7096774193548387\n"
     ]
    }
   ],
   "source": [
    "Accuracy(x_val,y_val)"
   ]
  },
  {
   "cell_type": "code",
   "execution_count": 18,
   "id": "44c6fcf9",
   "metadata": {
    "execution": {
     "iopub.execute_input": "2023-02-26T21:44:08.015129Z",
     "iopub.status.busy": "2023-02-26T21:44:08.014695Z",
     "iopub.status.idle": "2023-02-26T21:44:08.025658Z",
     "shell.execute_reply": "2023-02-26T21:44:08.024370Z"
    },
    "papermill": {
     "duration": 0.022125,
     "end_time": "2023-02-26T21:44:08.028388",
     "exception": false,
     "start_time": "2023-02-26T21:44:08.006263",
     "status": "completed"
    },
    "tags": []
   },
   "outputs": [],
   "source": [
    "filename = \"submission.csv\"\n",
    "pickle.dump(model, open(filename, 'wb'))\n",
    "\n",
    "saved_model = pickle.load(open(filename, 'rb'))"
   ]
  },
  {
   "cell_type": "code",
   "execution_count": null,
   "id": "a5a6ee70",
   "metadata": {
    "papermill": {
     "duration": 0.006575,
     "end_time": "2023-02-26T21:44:08.042056",
     "exception": false,
     "start_time": "2023-02-26T21:44:08.035481",
     "status": "completed"
    },
    "tags": []
   },
   "outputs": [],
   "source": []
  }
 ],
 "metadata": {
  "kernelspec": {
   "display_name": "Python 3",
   "language": "python",
   "name": "python3"
  },
  "language_info": {
   "codemirror_mode": {
    "name": "ipython",
    "version": 3
   },
   "file_extension": ".py",
   "mimetype": "text/x-python",
   "name": "python",
   "nbconvert_exporter": "python",
   "pygments_lexer": "ipython3",
   "version": "3.7.12"
  },
  "papermill": {
   "default_parameters": {},
   "duration": 52.501863,
   "end_time": "2023-02-26T21:44:08.873123",
   "environment_variables": {},
   "exception": null,
   "input_path": "__notebook__.ipynb",
   "output_path": "__notebook__.ipynb",
   "parameters": {},
   "start_time": "2023-02-26T21:43:16.371260",
   "version": "2.4.0"
  }
 },
 "nbformat": 4,
 "nbformat_minor": 5
}
